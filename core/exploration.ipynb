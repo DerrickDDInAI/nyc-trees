{
 "metadata": {
  "language_info": {
   "codemirror_mode": {
    "name": "ipython",
    "version": 3
   },
   "file_extension": ".py",
   "mimetype": "text/x-python",
   "name": "python",
   "nbconvert_exporter": "python",
   "pygments_lexer": "ipython3",
   "version": "3.7.10-final"
  },
  "orig_nbformat": 2,
  "kernelspec": {
   "name": "python3",
   "display_name": "Python 3.7.10 64-bit ('ddenv': conda)",
   "metadata": {
    "interpreter": {
     "hash": "4e93cb0a747647566ecb8af40624e8431245ee7f956cc05cad77669f445d8dd1"
    }
   }
  }
 },
 "nbformat": 4,
 "nbformat_minor": 2,
 "cells": [
  {
   "source": [
    "# 2015 NYC Street Tree Census dataset\n",
    "Explore, clean and prepare dataset for a machine learning model\n",
    "\n",
    "Current main objective: to understand the determinant factors of trees health in New York City."
   ],
   "cell_type": "markdown",
   "metadata": {}
  },
  {
   "source": [
    "## 1. Import modules"
   ],
   "cell_type": "markdown",
   "metadata": {}
  },
  {
   "cell_type": "code",
   "execution_count": 1,
   "metadata": {},
   "outputs": [],
   "source": [
    "import numpy as np\n",
    "import pandas as pd"
   ]
  },
  {
   "source": [
    "## 2. Import dataset"
   ],
   "cell_type": "markdown",
   "metadata": {}
  },
  {
   "cell_type": "code",
   "execution_count": 2,
   "metadata": {},
   "outputs": [],
   "source": [
    "df = pd.read_csv('assets/data_100000.csv')"
   ]
  },
  {
   "source": [
    "## 3. Explore dataset"
   ],
   "cell_type": "markdown",
   "metadata": {}
  },
  {
   "cell_type": "code",
   "execution_count": 3,
   "metadata": {},
   "outputs": [
    {
     "output_type": "stream",
     "name": "stdout",
     "text": [
      "0. The five first rows:\n"
     ]
    },
    {
     "output_type": "execute_result",
     "data": {
      "text/plain": [
       "   created_at  tree_id  block_id  \\\n",
       "0  08/27/2015   180683    348711   \n",
       "1  09/03/2015   200540    315986   \n",
       "2  09/05/2015   204026    218365   \n",
       "3  09/05/2015   204337    217969   \n",
       "4  08/30/2015   189565    223043   \n",
       "\n",
       "                                        the_geom  tree_dbh  stump_diam  \\\n",
       "0  POINT (-73.84421521958048 40.723091773924274)         3           0   \n",
       "1   POINT (-73.81867945834878 40.79411066708779)        21           0   \n",
       "2  POINT (-73.93660770459083 40.717580740099116)         3           0   \n",
       "3  POINT (-73.93445615919741 40.713537494833226)        10           0   \n",
       "4   POINT (-73.97597938483258 40.66677775537875)        21           0   \n",
       "\n",
       "  curb_loc status health                           spc_latin  ... st_assem  \\\n",
       "0   OnCurb  Alive   Fair                         Acer rubrum  ...       28   \n",
       "1   OnCurb  Alive   Fair                   Quercus palustris  ...       27   \n",
       "2   OnCurb  Alive   Good  Gleditsia triacanthos var. inermis  ...       50   \n",
       "3   OnCurb  Alive   Good  Gleditsia triacanthos var. inermis  ...       53   \n",
       "4   OnCurb  Alive   Good                     Tilia americana  ...       44   \n",
       "\n",
       "  st_senate   nta            nta_name  boro_ct     state   latitude  \\\n",
       "0        16  QN17        Forest Hills  4073900  New York  40.723092   \n",
       "1        11  QN49          Whitestone  4097300  New York  40.794111   \n",
       "2        18  BK90   East Williamsburg  3044900  New York  40.717581   \n",
       "3        18  BK90   East Williamsburg  3044900  New York  40.713537   \n",
       "4        21  BK37  Park Slope-Gowanus  3016500  New York  40.666778   \n",
       "\n",
       "   longitude          x_sp           y_sp  \n",
       "0 -73.844215  1.027431e+06  202756.768749  \n",
       "1 -73.818679  1.034456e+06  228644.837379  \n",
       "2 -73.936608  1.001823e+06  200716.891267  \n",
       "3 -73.934456  1.002420e+06  199244.253136  \n",
       "4 -73.975979  9.909138e+05  182202.425999  \n",
       "\n",
       "[5 rows x 42 columns]"
      ],
      "text/html": "<div>\n<style scoped>\n    .dataframe tbody tr th:only-of-type {\n        vertical-align: middle;\n    }\n\n    .dataframe tbody tr th {\n        vertical-align: top;\n    }\n\n    .dataframe thead th {\n        text-align: right;\n    }\n</style>\n<table border=\"1\" class=\"dataframe\">\n  <thead>\n    <tr style=\"text-align: right;\">\n      <th></th>\n      <th>created_at</th>\n      <th>tree_id</th>\n      <th>block_id</th>\n      <th>the_geom</th>\n      <th>tree_dbh</th>\n      <th>stump_diam</th>\n      <th>curb_loc</th>\n      <th>status</th>\n      <th>health</th>\n      <th>spc_latin</th>\n      <th>...</th>\n      <th>st_assem</th>\n      <th>st_senate</th>\n      <th>nta</th>\n      <th>nta_name</th>\n      <th>boro_ct</th>\n      <th>state</th>\n      <th>latitude</th>\n      <th>longitude</th>\n      <th>x_sp</th>\n      <th>y_sp</th>\n    </tr>\n  </thead>\n  <tbody>\n    <tr>\n      <th>0</th>\n      <td>08/27/2015</td>\n      <td>180683</td>\n      <td>348711</td>\n      <td>POINT (-73.84421521958048 40.723091773924274)</td>\n      <td>3</td>\n      <td>0</td>\n      <td>OnCurb</td>\n      <td>Alive</td>\n      <td>Fair</td>\n      <td>Acer rubrum</td>\n      <td>...</td>\n      <td>28</td>\n      <td>16</td>\n      <td>QN17</td>\n      <td>Forest Hills</td>\n      <td>4073900</td>\n      <td>New York</td>\n      <td>40.723092</td>\n      <td>-73.844215</td>\n      <td>1.027431e+06</td>\n      <td>202756.768749</td>\n    </tr>\n    <tr>\n      <th>1</th>\n      <td>09/03/2015</td>\n      <td>200540</td>\n      <td>315986</td>\n      <td>POINT (-73.81867945834878 40.79411066708779)</td>\n      <td>21</td>\n      <td>0</td>\n      <td>OnCurb</td>\n      <td>Alive</td>\n      <td>Fair</td>\n      <td>Quercus palustris</td>\n      <td>...</td>\n      <td>27</td>\n      <td>11</td>\n      <td>QN49</td>\n      <td>Whitestone</td>\n      <td>4097300</td>\n      <td>New York</td>\n      <td>40.794111</td>\n      <td>-73.818679</td>\n      <td>1.034456e+06</td>\n      <td>228644.837379</td>\n    </tr>\n    <tr>\n      <th>2</th>\n      <td>09/05/2015</td>\n      <td>204026</td>\n      <td>218365</td>\n      <td>POINT (-73.93660770459083 40.717580740099116)</td>\n      <td>3</td>\n      <td>0</td>\n      <td>OnCurb</td>\n      <td>Alive</td>\n      <td>Good</td>\n      <td>Gleditsia triacanthos var. inermis</td>\n      <td>...</td>\n      <td>50</td>\n      <td>18</td>\n      <td>BK90</td>\n      <td>East Williamsburg</td>\n      <td>3044900</td>\n      <td>New York</td>\n      <td>40.717581</td>\n      <td>-73.936608</td>\n      <td>1.001823e+06</td>\n      <td>200716.891267</td>\n    </tr>\n    <tr>\n      <th>3</th>\n      <td>09/05/2015</td>\n      <td>204337</td>\n      <td>217969</td>\n      <td>POINT (-73.93445615919741 40.713537494833226)</td>\n      <td>10</td>\n      <td>0</td>\n      <td>OnCurb</td>\n      <td>Alive</td>\n      <td>Good</td>\n      <td>Gleditsia triacanthos var. inermis</td>\n      <td>...</td>\n      <td>53</td>\n      <td>18</td>\n      <td>BK90</td>\n      <td>East Williamsburg</td>\n      <td>3044900</td>\n      <td>New York</td>\n      <td>40.713537</td>\n      <td>-73.934456</td>\n      <td>1.002420e+06</td>\n      <td>199244.253136</td>\n    </tr>\n    <tr>\n      <th>4</th>\n      <td>08/30/2015</td>\n      <td>189565</td>\n      <td>223043</td>\n      <td>POINT (-73.97597938483258 40.66677775537875)</td>\n      <td>21</td>\n      <td>0</td>\n      <td>OnCurb</td>\n      <td>Alive</td>\n      <td>Good</td>\n      <td>Tilia americana</td>\n      <td>...</td>\n      <td>44</td>\n      <td>21</td>\n      <td>BK37</td>\n      <td>Park Slope-Gowanus</td>\n      <td>3016500</td>\n      <td>New York</td>\n      <td>40.666778</td>\n      <td>-73.975979</td>\n      <td>9.909138e+05</td>\n      <td>182202.425999</td>\n    </tr>\n  </tbody>\n</table>\n<p>5 rows × 42 columns</p>\n</div>"
     },
     "metadata": {},
     "execution_count": 3
    }
   ],
   "source": [
    "print(\"0. The five first rows:\")\n",
    "df.head()"
   ]
  },
  {
   "cell_type": "code",
   "execution_count": 4,
   "metadata": {},
   "outputs": [
    {
     "output_type": "stream",
     "name": "stdout",
     "text": [
      "1. General info of dataset:\n",
      "<class 'pandas.core.frame.DataFrame'>\n",
      "RangeIndex: 100000 entries, 0 to 99999\n",
      "Data columns (total 42 columns):\n",
      " #   Column      Non-Null Count   Dtype  \n",
      "---  ------      --------------   -----  \n",
      " 0   created_at  100000 non-null  object \n",
      " 1   tree_id     100000 non-null  int64  \n",
      " 2   block_id    100000 non-null  int64  \n",
      " 3   the_geom    100000 non-null  object \n",
      " 4   tree_dbh    100000 non-null  int64  \n",
      " 5   stump_diam  100000 non-null  int64  \n",
      " 6   curb_loc    100000 non-null  object \n",
      " 7   status      100000 non-null  object \n",
      " 8   health      95007 non-null   object \n",
      " 9   spc_latin   95008 non-null   object \n",
      " 10  spc_common  95008 non-null   object \n",
      " 11  steward     95008 non-null   object \n",
      " 12  guards      95008 non-null   object \n",
      " 13  sidewalk    95008 non-null   object \n",
      " 14  user_type   100000 non-null  object \n",
      " 15  problems    95008 non-null   object \n",
      " 16  root_stone  100000 non-null  object \n",
      " 17  root_grate  100000 non-null  object \n",
      " 18  root_other  100000 non-null  object \n",
      " 19  trnk_wire   100000 non-null  object \n",
      " 20  trnk_light  100000 non-null  object \n",
      " 21  trnk_other  100000 non-null  object \n",
      " 22  brnch_ligh  100000 non-null  object \n",
      " 23  brnch_shoe  100000 non-null  object \n",
      " 24  brnch_othe  100000 non-null  object \n",
      " 25  address     100000 non-null  object \n",
      " 26  zipcode     100000 non-null  int64  \n",
      " 27  zip_city    100000 non-null  object \n",
      " 28  cb_num      100000 non-null  int64  \n",
      " 29  borocode    100000 non-null  int64  \n",
      " 30  boroname    100000 non-null  object \n",
      " 31  cncldist    100000 non-null  int64  \n",
      " 32  st_assem    100000 non-null  int64  \n",
      " 33  st_senate   100000 non-null  int64  \n",
      " 34  nta         100000 non-null  object \n",
      " 35  nta_name    100000 non-null  object \n",
      " 36  boro_ct     100000 non-null  int64  \n",
      " 37  state       100000 non-null  object \n",
      " 38  latitude    100000 non-null  float64\n",
      " 39  longitude   100000 non-null  float64\n",
      " 40  x_sp        100000 non-null  float64\n",
      " 41  y_sp        100000 non-null  float64\n",
      "dtypes: float64(4), int64(11), object(27)\n",
      "memory usage: 32.0+ MB\n"
     ]
    }
   ],
   "source": [
    "print(\"1. General info of dataset:\")\n",
    "df.info()"
   ]
  },
  {
   "cell_type": "code",
   "execution_count": 5,
   "metadata": {},
   "outputs": [
    {
     "output_type": "stream",
     "name": "stdout",
     "text": [
      "2. Number of rows: 100000\n3. Number of original features: 42\n"
     ]
    }
   ],
   "source": [
    "print(f\"2. Number of rows: {len(df)}\")\n",
    "print(f\"3. Number of original features: {len(df.columns)}\")"
   ]
  },
  {
   "source": [
    "### Exploring missing values"
   ],
   "cell_type": "markdown",
   "metadata": {}
  },
  {
   "cell_type": "code",
   "execution_count": 6,
   "metadata": {},
   "outputs": [
    {
     "output_type": "stream",
     "name": "stdout",
     "text": [
      "4. Number of missing values in each original feature:\n"
     ]
    },
    {
     "output_type": "execute_result",
     "data": {
      "text/plain": [
       "created_at       0\n",
       "tree_id          0\n",
       "block_id         0\n",
       "the_geom         0\n",
       "tree_dbh         0\n",
       "stump_diam       0\n",
       "curb_loc         0\n",
       "status           0\n",
       "health        4993\n",
       "spc_latin     4992\n",
       "spc_common    4992\n",
       "steward       4992\n",
       "guards        4992\n",
       "sidewalk      4992\n",
       "user_type        0\n",
       "problems      4992\n",
       "root_stone       0\n",
       "root_grate       0\n",
       "root_other       0\n",
       "trnk_wire        0\n",
       "trnk_light       0\n",
       "trnk_other       0\n",
       "brnch_ligh       0\n",
       "brnch_shoe       0\n",
       "brnch_othe       0\n",
       "address          0\n",
       "zipcode          0\n",
       "zip_city         0\n",
       "cb_num           0\n",
       "borocode         0\n",
       "boroname         0\n",
       "cncldist         0\n",
       "st_assem         0\n",
       "st_senate        0\n",
       "nta              0\n",
       "nta_name         0\n",
       "boro_ct          0\n",
       "state            0\n",
       "latitude         0\n",
       "longitude        0\n",
       "x_sp             0\n",
       "y_sp             0\n",
       "dtype: int64"
      ]
     },
     "metadata": {},
     "execution_count": 6
    }
   ],
   "source": [
    "print(\"4. Number of missing values in each original feature:\")\n",
    "df.isnull().sum()"
   ]
  },
  {
   "cell_type": "code",
   "execution_count": 7,
   "metadata": {},
   "outputs": [
    {
     "output_type": "stream",
     "name": "stdout",
     "text": [
      "5. Data type of each original feature:\n"
     ]
    },
    {
     "output_type": "execute_result",
     "data": {
      "text/plain": [
       "created_at     object\n",
       "tree_id         int64\n",
       "block_id        int64\n",
       "the_geom       object\n",
       "tree_dbh        int64\n",
       "stump_diam      int64\n",
       "curb_loc       object\n",
       "status         object\n",
       "health         object\n",
       "spc_latin      object\n",
       "spc_common     object\n",
       "steward        object\n",
       "guards         object\n",
       "sidewalk       object\n",
       "user_type      object\n",
       "problems       object\n",
       "root_stone     object\n",
       "root_grate     object\n",
       "root_other     object\n",
       "trnk_wire      object\n",
       "trnk_light     object\n",
       "trnk_other     object\n",
       "brnch_ligh     object\n",
       "brnch_shoe     object\n",
       "brnch_othe     object\n",
       "address        object\n",
       "zipcode         int64\n",
       "zip_city       object\n",
       "cb_num          int64\n",
       "borocode        int64\n",
       "boroname       object\n",
       "cncldist        int64\n",
       "st_assem        int64\n",
       "st_senate       int64\n",
       "nta            object\n",
       "nta_name       object\n",
       "boro_ct         int64\n",
       "state          object\n",
       "latitude      float64\n",
       "longitude     float64\n",
       "x_sp          float64\n",
       "y_sp          float64\n",
       "dtype: object"
      ]
     },
     "metadata": {},
     "execution_count": 7
    }
   ],
   "source": [
    "print(\"5. Data type of each original feature:\")\n",
    "df.dtypes"
   ]
  },
  {
   "cell_type": "code",
   "execution_count": 8,
   "metadata": {},
   "outputs": [
    {
     "output_type": "stream",
     "name": "stdout",
     "text": [
      "6. Number of unique values of each original feature:\nNaN non included\n"
     ]
    },
    {
     "output_type": "execute_result",
     "data": {
      "text/plain": [
       "created_at       146\n",
       "tree_id       100000\n",
       "block_id       19472\n",
       "the_geom       99962\n",
       "tree_dbh          77\n",
       "stump_diam        75\n",
       "curb_loc           2\n",
       "status             3\n",
       "health             3\n",
       "spc_latin        125\n",
       "spc_common       125\n",
       "steward            4\n",
       "guards             4\n",
       "sidewalk           2\n",
       "user_type          3\n",
       "problems         151\n",
       "root_stone         2\n",
       "root_grate         2\n",
       "root_other         2\n",
       "trnk_wire          2\n",
       "trnk_light         2\n",
       "trnk_other         2\n",
       "brnch_ligh         2\n",
       "brnch_shoe         2\n",
       "brnch_othe         2\n",
       "address        66793\n",
       "zipcode          185\n",
       "zip_city          47\n",
       "cb_num            59\n",
       "borocode           5\n",
       "boroname           5\n",
       "cncldist          51\n",
       "st_assem          65\n",
       "st_senate         26\n",
       "nta              188\n",
       "nta_name         188\n",
       "boro_ct         1652\n",
       "state              1\n",
       "latitude       99799\n",
       "longitude      99771\n",
       "x_sp           99929\n",
       "y_sp           99940\n",
       "dtype: int64"
      ]
     },
     "metadata": {},
     "execution_count": 8
    }
   ],
   "source": [
    "print(\"6. Number of unique values of each original feature:\")\n",
    "print(\"NaN non included\")\n",
    "df.nunique()"
   ]
  },
  {
   "cell_type": "code",
   "execution_count": 10,
   "metadata": {
    "tags": [
     "outputPrepend"
    ]
   },
   "outputs": [
    {
     "output_type": "stream",
     "name": "stdout",
     "text": [
      "8  54  74  64  49  57  77 118  51 109  67  80 134  78\n",
      "  79  69  76]\n",
      "\n",
      "#################### curb_loc ####################\n",
      "['OnCurb' 'OffsetFromCurb']\n",
      "\n",
      "#################### status ####################\n",
      "['Alive' 'Dead' 'Stump']\n",
      "\n",
      "#################### health ####################\n",
      "['Fair' 'Good' 'Poor' nan]\n",
      "\n",
      "#################### spc_latin ####################\n",
      "['Acer rubrum' 'Quercus palustris' 'Gleditsia triacanthos var. inermis'\n",
      " 'Tilia americana' 'Platanus x acerifolia' 'Ginkgo biloba'\n",
      " 'Quercus phellos' 'Acer pseudoplatanus' 'Acer ginnala' 'Acer campestre'\n",
      " 'Ulmus americana' 'Fraxinus' 'Malus' 'Acer saccharinum' 'Corylus colurna'\n",
      " 'Prunus serotina' 'Juniperus virginiana' 'Acer platanoides'\n",
      " 'Liriodendron tulipifera' 'Quercus acutissima' 'Styphnolobium japonicum'\n",
      " 'Quercus bicolor' 'Chionanthus retusus' 'Magnolia grandiflora'\n",
      " 'Liquidambar styraciflua' 'Pyrus calleryana' 'Quercus coccinea'\n",
      " 'Chamaecyparis thyoides' 'Quercus velutina' 'Zelkova serrata'\n",
      " 'Quercus alba' 'Aesculus glabra' 'Quercus rubra' nan 'Tilia tomentosa'\n",
      " 'Carya glabra' 'Cladrastis kentukea' 'Morus' 'Pseudotsuga menziesii'\n",
      " 'Lagerstroemia' 'Sassafras albidum' 'Picea' 'Ulmus parvifolia'\n",
      " 'Aesculus hippocastanum' 'Ilex' 'Tilia cordata' 'Pinus strobus'\n",
      " 'Nyssa sylvatica' 'Syringa reticulata' 'Eucommia ulmoides'\n",
      " 'Fraxinus pennsylvanica' 'Quercus robur' 'Fraxinus americana'\n",
      " 'Koelreuteria paniculata' 'Quercus shumardii' 'Ulmus pumila'\n",
      " 'Juglans nigra' 'Salix babylonica' 'Cercidiphyllum japonicum'\n",
      " 'Robinia pseudoacacia' 'Parrotia persica' 'Cornus mas'\n",
      " 'Castanea mollissima' 'Quercus falcata' 'Prunus' 'Prunus cerasifera'\n",
      " \"Acer platanoides 'Crimson King'\" 'Gymnocladus dioicus'\n",
      " 'Styrax japonicus' 'Acer saccharum' 'Thuja occidentalis'\n",
      " 'Cercis reniformis' 'Ailanthus altissima' 'Syringa pekinensis'\n",
      " 'Carpinus caroliniana' 'Populus deltoides' 'Tsuga canadensis'\n",
      " 'Betula pendula' 'Cedrus atlantica' 'Paulownia tomentosa' 'Crataegus'\n",
      " 'Prunus virginiana' 'Catalpa' 'Betula nigra' 'Acer negundo'\n",
      " 'Fagus sylvatica' 'Picea abies' 'Cedrus deodara' 'Phellodendron amurense'\n",
      " 'Acer palmatum' 'Quercus imbricaria' 'Magnolia' 'Cotinus coggygria'\n",
      " 'Betula papyrifera' 'Fagus grandifolia' 'Ostrya virginiana'\n",
      " 'Larix laricina' 'Taxodium ascendens' 'Crataegus crusgalli var. inermis'\n",
      " 'Metasequoia glyptostroboides' 'Celtis occidentalis' 'Cornus florida'\n",
      " 'Cornus kousa' 'Acer' 'Cercis canadensis' 'Taxodium distichum'\n",
      " 'Magnolia acuminata' 'Amelanchier' 'Maclura pomifera' 'Acer griseum'\n",
      " 'Pinus resinosa' 'Pinus sylvestris' 'Acer tataricum' 'Acer nigrum'\n",
      " 'Picea pungens' 'Populus tremuloides' 'Aesculus x carnea' 'Pinus nigra'\n",
      " 'Acer truncatum' 'Alnus glutinosa' 'Maackia amurensis' 'Carpinus betulus'\n",
      " 'Quercus macrocarpa' 'Populus grandidentata' 'Acer buergerianum'\n",
      " 'Pinus virginiana']\n",
      "\n",
      "#################### spc_common ####################\n",
      "['red maple' 'pin oak' 'honeylocust' 'American linden' 'London planetree'\n",
      " 'ginkgo' 'willow oak' 'sycamore maple' 'Amur maple' 'hedge maple'\n",
      " 'American elm' 'ash' 'crab apple' 'silver maple' 'Turkish hazelnut'\n",
      " 'black cherry' 'eastern redcedar' 'Norway maple' 'tulip-poplar'\n",
      " 'sawtooth oak' 'Sophora' 'swamp white oak' 'Chinese fringetree'\n",
      " 'southern magnolia' 'sweetgum' 'Callery pear' 'scarlet oak'\n",
      " 'Atlantic white cedar' 'black oak' 'Japanese zelkova' 'white oak'\n",
      " 'Ohio buckeye' 'northern red oak' nan 'silver linden' 'pignut hickory'\n",
      " 'Kentucky yellowwood' 'mulberry' 'Douglas-fir' 'crepe myrtle' 'sassafras'\n",
      " 'spruce' 'Chinese elm' 'horse chestnut' 'holly' 'littleleaf linden'\n",
      " 'white pine' 'blackgum' 'Japanese tree lilac' 'hardy rubber tree'\n",
      " 'green ash' 'English oak' 'white ash' 'golden raintree' \"Schumard's oak\"\n",
      " 'Siberian elm' 'black walnut' 'weeping willow' 'katsura tree'\n",
      " 'black locust' 'Persian ironwood' 'Cornelian cherry' 'Chinese chestnut'\n",
      " 'southern red oak' 'cherry' 'purple-leaf plum' 'crimson king maple'\n",
      " 'Kentucky coffeetree' 'Japanese snowbell' 'sugar maple' 'arborvitae'\n",
      " 'Oklahoma redbud' 'tree of heaven' 'Chinese tree lilac'\n",
      " 'American hornbeam' 'eastern cottonwood' 'eastern hemlock' 'silver birch'\n",
      " 'Atlas cedar' 'empress tree' 'hawthorn' \"'Schubert' chokecherry\"\n",
      " 'catalpa' 'river birch' 'boxelder' 'European beech' 'Norway spruce'\n",
      " 'Himalayan cedar' 'Amur cork tree' 'Japanese maple' 'shingle oak'\n",
      " 'magnolia' 'smoketree' 'paper birch' 'American beech'\n",
      " 'American hophornbeam' 'American larch' 'pond cypress'\n",
      " 'cockspur hawthorn' 'dawn redwood' 'common hackberry' 'flowering dogwood'\n",
      " 'kousa dogwood' 'maple' 'eastern redbud' 'bald cypress'\n",
      " 'cucumber magnolia' 'serviceberry' 'Osage-orange' 'paperbark maple'\n",
      " 'red pine' 'Scots pine' 'tartar maple' 'black maple' 'blue spruce'\n",
      " 'quaking aspen' 'red horse chestnut' 'black pine' 'Shantung maple'\n",
      " 'European alder' 'Amur maackia' 'European hornbeam' 'bur oak'\n",
      " 'bigtooth aspen' 'trident maple' 'Virginia pine']\n",
      "\n",
      "#################### steward ####################\n",
      "['None' '1or2' '3or4' nan '4orMore']\n",
      "\n",
      "#################### guards ####################\n",
      "['None' 'Helpful' 'Harmful' 'Unsure' nan]\n",
      "\n",
      "#################### sidewalk ####################\n",
      "['NoDamage' 'Damage' nan]\n",
      "\n",
      "#################### user_type ####################\n",
      "['TreesCount Staff' 'Volunteer' 'NYC Parks Staff']\n",
      "\n",
      "#################### problems ####################\n",
      "['None' 'Stones' 'MetalGrates' 'RootOther' 'Stones,BranchOther'\n",
      " 'TrunkLights,BranchLights' 'RootOther,TrunkOther,BranchOther'\n",
      " 'BranchOther' 'Stones,BranchLights' 'TrunkOther,BranchLights'\n",
      " 'MetalGrates,TrunkOther' 'TrunkOther' 'Stones,WiresRope' 'BranchLights'\n",
      " 'WiresRope,BranchOther' 'RootOther,BranchOther'\n",
      " 'Stones,WiresRope,BranchLights' 'WiresRope' 'WiresRope,BranchLights'\n",
      " 'Stones,TrunkOther' 'WiresRope,TrunkLights,BranchLights'\n",
      " 'Stones,RootOther' 'Stones,BranchLights,BranchOther'\n",
      " 'Stones,RootOther,BranchLights' 'MetalGrates,BranchOther'\n",
      " 'Stones,RootOther,TrunkOther' 'RootOther,TrunkOther'\n",
      " 'Stones,TrunkOther,BranchLights,BranchOther'\n",
      " 'Stones,TrunkOther,BranchOther' 'RootOther,BranchLights'\n",
      " 'TrunkOther,BranchOther' 'RootOther,WiresRope,BranchLights'\n",
      " 'Stones,TrunkOther,BranchLights' 'BranchLights,Sneakers'\n",
      " 'Stones,RootOther,TrunkOther,BranchLights' nan\n",
      " 'MetalGrates,TrunkOther,BranchOther' 'TrunkLights,BranchOther'\n",
      " 'TrunkLights' 'Stones,RootOther,BranchOther' 'RootOther,WiresRope'\n",
      " 'BranchLights,BranchOther' 'Stones,MetalGrates'\n",
      " 'RootOther,TrunkOther,BranchLights'\n",
      " 'Stones,WiresRope,TrunkOther,BranchLights'\n",
      " 'WiresRope,TrunkOther,BranchOther'\n",
      " 'RootOther,WiresRope,TrunkOther,BranchLights'\n",
      " 'RootOther,TrunkOther,BranchLights,BranchOther'\n",
      " 'MetalGrates,RootOther,TrunkOther' 'Stones,WiresRope,TrunkOther'\n",
      " 'MetalGrates,RootOther,TrunkOther,BranchOther'\n",
      " 'Stones,RootOther,WiresRope,BranchLights' 'WiresRope,TrunkOther'\n",
      " 'RootOther,WiresRope,TrunkOther' 'MetalGrates,WiresRope'\n",
      " 'Stones,RootOther,WiresRope,TrunkOther'\n",
      " 'Stones,RootOther,TrunkOther,BranchOther' 'Stones,WiresRope,BranchOther'\n",
      " 'RootOther,BranchLights,BranchOther'\n",
      " 'Stones,RootOther,WiresRope,TrunkLights,BranchLights'\n",
      " 'RootOther,WiresRope,TrunkOther,BranchLights,BranchOther'\n",
      " 'WiresRope,TrunkOther,BranchLights,BranchOther'\n",
      " 'Stones,RootOther,WiresRope,BranchOther' 'MetalGrates,RootOther'\n",
      " 'Stones,TrunkLights' 'Stones,MetalGrates,WiresRope,BranchLights'\n",
      " 'Stones,WiresRope,BranchLights,BranchOther'\n",
      " 'TrunkOther,BranchLights,BranchOther' 'TrunkLights,TrunkOther'\n",
      " 'Stones,RootOther,TrunkLights,BranchLights'\n",
      " 'Stones,TrunkLights,BranchLights' 'WiresRope,BranchLights,BranchOther'\n",
      " 'WiresRope,TrunkLights'\n",
      " 'Stones,RootOther,TrunkOther,BranchLights,BranchOther'\n",
      " 'TrunkOther,Sneakers' 'RootOther,WiresRope,TrunkOther,BranchOther'\n",
      " 'RootOther,TrunkLights,BranchLights' 'RootOther,Sneakers'\n",
      " 'Stones,RootOther,Sneakers,BranchOther'\n",
      " 'MetalGrates,WiresRope,BranchOther' 'RootOther,TrunkLights,BranchOther'\n",
      " 'RootOther,WiresRope,BranchOther'\n",
      " 'Stones,RootOther,WiresRope,TrunkOther,BranchLights,BranchOther'\n",
      " 'MetalGrates,BranchLights' 'Stones,TrunkLights,BranchLights,BranchOther'\n",
      " 'Stones,MetalGrates,RootOther' 'Stones,Sneakers'\n",
      " 'Stones,TrunkLights,BranchOther'\n",
      " 'Stones,RootOther,BranchLights,BranchOther' 'Sneakers'\n",
      " 'Stones,RootOther,Sneakers' 'MetalGrates,TrunkOther,BranchLights'\n",
      " 'MetalGrates,TrunkLights,BranchLights'\n",
      " 'WiresRope,TrunkOther,BranchLights,Sneakers'\n",
      " 'MetalGrates,RootOther,BranchOther' 'Stones,RootOther,WiresRope'\n",
      " 'Stones,WiresRope,BranchLights,Sneakers'\n",
      " 'WiresRope,TrunkOther,BranchLights'\n",
      " 'Stones,RootOther,WiresRope,TrunkOther,BranchLights'\n",
      " 'Stones,RootOther,WiresRope,BranchLights,BranchOther'\n",
      " 'RootOther,WiresRope,BranchLights,BranchOther'\n",
      " 'Stones,MetalGrates,TrunkOther'\n",
      " 'RootOther,TrunkLights,TrunkOther,BranchLights,BranchOther'\n",
      " 'MetalGrates,Sneakers'\n",
      " 'Stones,RootOther,WiresRope,TrunkOther,BranchOther'\n",
      " 'Stones,WiresRope,TrunkOther,BranchLights,BranchOther'\n",
      " 'MetalGrates,RootOther,WiresRope,TrunkLights,BranchLights,BranchOther'\n",
      " 'Stones,WiresRope,TrunkOther,BranchOther'\n",
      " 'MetalGrates,RootOther,WiresRope,BranchOther'\n",
      " 'MetalGrates,WiresRope,TrunkLights,BranchLights,BranchOther'\n",
      " 'TrunkLights,TrunkOther,BranchLights' 'WiresRope,Sneakers'\n",
      " 'RootOther,WiresRope,TrunkLights,BranchOther'\n",
      " 'MetalGrates,RootOther,BranchLights' 'Stones,MetalGrates,BranchLights'\n",
      " 'Stones,RootOther,TrunkLights' 'Sneakers,BranchOther'\n",
      " 'Stones,RootOther,TrunkOther,Sneakers'\n",
      " 'Stones,WiresRope,TrunkLights,BranchLights'\n",
      " 'Stones,BranchLights,Sneakers' 'BranchLights,Sneakers,BranchOther'\n",
      " 'MetalGrates,RootOther,TrunkLights,BranchLights'\n",
      " 'Stones,RootOther,BranchLights,Sneakers'\n",
      " 'Stones,TrunkLights,TrunkOther,BranchLights' 'RootOther,TrunkLights'\n",
      " 'TrunkLights,Sneakers' 'TrunkLights,BranchLights,BranchOther'\n",
      " 'Stones,MetalGrates,RootOther,BranchOther'\n",
      " 'Stones,RootOther,WiresRope,TrunkLights'\n",
      " 'Stones,RootOther,WiresRope,TrunkLights,BranchOther'\n",
      " 'RootOther,TrunkLights,TrunkOther,BranchLights'\n",
      " 'RootOther,WiresRope,TrunkLights'\n",
      " 'TrunkLights,TrunkOther,BranchLights,BranchOther'\n",
      " 'Stones,MetalGrates,WiresRope,TrunkLights,BranchLights'\n",
      " 'Stones,MetalGrates,TrunkOther,BranchOther' 'Stones,TrunkOther,Sneakers'\n",
      " 'Stones,MetalGrates,WiresRope' 'Stones,MetalGrates,RootOther,TrunkOther'\n",
      " 'Stones,RootOther,TrunkLights,TrunkOther,BranchLights'\n",
      " 'TrunkOther,BranchLights,Sneakers,BranchOther'\n",
      " 'Stones,Sneakers,BranchOther'\n",
      " 'RootOther,WiresRope,TrunkLights,TrunkOther,BranchLights'\n",
      " 'MetalGrates,RootOther,TrunkOther,BranchLights'\n",
      " 'WiresRope,TrunkLights,TrunkOther,BranchLights'\n",
      " 'Stones,MetalGrates,TrunkOther,BranchLights'\n",
      " 'Stones,TrunkLights,TrunkOther,BranchOther'\n",
      " 'Stones,TrunkLights,TrunkOther' 'MetalGrates,WiresRope,BranchLights'\n",
      " 'RootOther,WiresRope,TrunkLights,TrunkOther,BranchLights,BranchOther'\n",
      " 'Stones,MetalGrates,BranchOther'\n",
      " 'Stones,MetalGrates,RootOther,TrunkOther,BranchOther'\n",
      " 'RootOther,WiresRope,TrunkLights,BranchLights']\n",
      "\n",
      "#################### root_stone ####################\n",
      "['No' 'Yes']\n",
      "\n",
      "#################### root_grate ####################\n",
      "['No' 'Yes']\n",
      "\n",
      "#################### root_other ####################\n",
      "['No' 'Yes']\n",
      "\n",
      "#################### trnk_wire ####################\n",
      "['No' 'Yes']\n",
      "\n",
      "#################### trnk_light ####################\n",
      "['No' 'Yes']\n",
      "\n",
      "#################### trnk_other ####################\n",
      "['No' 'Yes']\n",
      "\n",
      "#################### brnch_ligh ####################\n",
      "['No' 'Yes']\n",
      "\n",
      "#################### brnch_shoe ####################\n",
      "['No' 'Yes']\n",
      "\n",
      "#################### brnch_othe ####################\n",
      "['No' 'Yes']\n",
      "\n",
      "#################### zipcode ####################\n",
      "[11375 11357 11211 11215 10023 10019 10305 11223 11105 10308 11205 11212\n",
      " 11214 11226 11373 10021 10024 10306 11217 11415 11230 10002 11385 10457\n",
      " 11235 10009 10012 10314 11204 11229 11365 10312 10458 10016 10011 11370\n",
      " 11231 10025 11372 10467 10453 11209 11358 10027 11203 11355 10115 11210\n",
      " 10014 11374 11691 11237 11238 11368 11413 11429 10470 11369 10075 11106\n",
      " 10010 11421 11693 10003 11218 11201 10065 11694 11222 11354 10468 11234\n",
      " 10036 10017 10038 11232 10048 10026 11101 11219 11412 11361 11364 11432\n",
      " 11356 10452 11362 11216 11249 10461 11102 11427 11414 11207 11233 11206\n",
      " 11692 10013 10280 10128 11220 10028 10456 10460 11418 10465 11228 11103\n",
      " 10309 10466 11377 11221 10463 11225 10022 10001 11434 11224 11236 10032\n",
      " 10304 10307 11367 11213 11366 10029 10310 10459 11416 11208 11104 11426\n",
      " 10031 11420 10301 11360 11411 10454 10473 10462 11422 11417 10034 10474\n",
      " 10018 10303 10069 10040 11435 11363 11004 10471 10033 10035    83 10472\n",
      " 10005 10469 11433 10037 10004 11697 10007 10475 11379 10039 11423 11428\n",
      " 11040 11378 10030 10302 10455 10451 10020 11001 11005 11436 11419 10111\n",
      " 10281 11239 10464 10282 10006]\n",
      "\n",
      "#################### zip_city ####################\n",
      "['Forest Hills' 'Whitestone' 'Brooklyn' 'New York' 'Staten Island'\n",
      " 'Astoria' 'Elmhurst' 'Kew Gardens' 'Ridgewood' 'Bronx' 'Fresh Meadows'\n",
      " 'East Elmhurst' 'Jackson Heights' 'Flushing' 'Rego Park' 'Far Rockaway'\n",
      " 'Corona' 'Springfield Gardens' 'Queens Village' 'Woodhaven'\n",
      " 'Rockaway Park' 'Long Island City' 'Saint Albans' 'Bayside'\n",
      " 'Oakland Gardens' 'Jamaica' 'College Point' 'Little Neck' 'Howard Beach'\n",
      " 'Arverne' 'Richmond Hill' 'Woodside' 'Ozone Park' 'Sunnyside' 'Bellerose'\n",
      " 'South Ozone Park' 'Cambria Heights' 'Rosedale' 'Glen Oaks'\n",
      " 'Central Park' 'Breezy Point' 'Middle Village' 'Hollis' 'New Hyde Park'\n",
      " 'Maspeth' 'Floral Park' 'South Richmond Hill']\n",
      "\n",
      "#################### cb_num ####################\n",
      "[406 407 301 306 107 104 502 313 401 503 302 316 311 314 404 307 108 409\n",
      " 312 103 405 206 315 106 102 205 105 109 403 207 310 317 414 304 413 308\n",
      " 212 408 411 318 208 101 110 402 412 204 211 410 305 203 303 209 501 210\n",
      " 309 201 112 111 202]\n",
      "\n",
      "#################### borocode ####################\n",
      "[4 3 1 5 2]\n",
      "\n",
      "#################### boroname ####################\n",
      "['Queens' 'Brooklyn' 'Manhattan' 'Staten Island' 'Bronx']\n",
      "\n",
      "#################### cncldist ####################\n",
      "[29 19 34 39  3 50 47 22 51 35 41 40 21 38  4  6 44  1 17 48 20 15  2  7\n",
      " 25 11 14 43 45 31 37 27  5 30 32 24 46 33  9 26 23  8 13 36 16 18 12 42\n",
      " 10 49 28]\n",
      "\n",
      "#################### st_assem ####################\n",
      "[28 27 50 53 44 67 75 64 45 36 62 55 47 42 35 57 73 52 48 65 37 86 74 66\n",
      " 63 41 25 78 69 39 80 77 46 26 58 70 40 23 31 33 49 81 76 38 59 51 34 29\n",
      " 24 54 84 56 43 79 87 83 82 30 72 71 68 61 60 85 32]\n",
      "\n",
      "#################### st_senate ####################\n",
      "[16 11 18 21 27 23 13 24 25 20 28 29 22 14 26 12 33 17 31 30 36 15 10 34\n",
      " 32 19]\n",
      "\n",
      "#################### nta ####################\n",
      "['QN17' 'QN49' 'BK90' 'BK37' 'MN14' 'MN15' 'SI14' 'BK26' 'QN72' 'SI54'\n",
      " 'BK69' 'BK81' 'BK29' 'BK42' 'QN25' 'BK68' 'MN40' 'MN12' 'SI25' 'QN60'\n",
      " 'BK46' 'MN27' 'QN20' 'BX17' 'SI36' 'SI45' 'BK17' 'MN50' 'MN24' 'SI24'\n",
      " 'BK44' 'QN62' 'SI01' 'BX06' 'BX41' 'SI48' 'MN20' 'MN23' 'BK33' 'MN09'\n",
      " 'QN28' 'BX43' 'BX36' 'BK19' 'BK31' 'BK43' 'QN51' 'BK96' 'QN22' 'QN15'\n",
      " 'BK77' 'QN12' 'BX40' 'QN03' 'QN18' 'QN34' 'BK64' 'BK28' 'BK95' 'BX62'\n",
      " 'QN27' 'MN31' 'QN70' 'MN21' 'QN53' 'QN10' 'BK41' 'QN41' 'QN48' 'BK76'\n",
      " 'SI05' 'BX28' 'BK58' 'BK25' 'MN17' 'QN19' 'MN25' 'MN11' 'QN31' 'BK88'\n",
      " 'QN08' 'QN66' 'QN46' 'QN42' 'QN06' 'QN23' 'BX01' 'MN19' 'BX26' 'QN45'\n",
      " 'BK61' 'BK73' 'BX49' 'QN71' 'QN57' 'BK82' 'BK78' 'BK79' 'BK60' 'MN28'\n",
      " 'MN13' 'BK34' 'BK75' 'BX08' 'QN54' 'SI07' 'BX52' 'BK45' 'MN32' 'BX03'\n",
      " 'QN50' 'BK35' 'BX30' 'BX37' 'BX34' 'BK85' 'BK27' 'BK21' 'SI32' 'MN22'\n",
      " 'BK83' 'BK50' 'BK32' 'MN36' 'SI11' 'QN37' 'BX10' 'BK72' 'MN33' 'QN63'\n",
      " 'SI35' 'QN43' 'BX75' 'BK30' 'QN29' 'SI12' 'QN44' 'BK63' 'MN04' 'QN55'\n",
      " 'MN06' 'QN47' 'BX33' 'QN33' 'SI37' 'BK91' 'BK23' 'BX39' 'BX09' 'BK38'\n",
      " 'BX63' 'BX05' 'QN05' 'BX29' 'QN56' 'MN01' 'BX27' 'SI22' 'QN35' 'QN68'\n",
      " 'BK40' 'BX44' 'MN35' 'QN52' 'QN38' 'BX14' 'BX22' 'BK09' 'SI28' 'SI08'\n",
      " 'MN34' 'QN26' 'BX35' 'BX55' 'BX31' 'QN61' 'BX46' 'MN03' 'BX13' 'QN21'\n",
      " 'QN07' 'QN76' 'QN30' 'QN01' 'BX59' 'QN02' 'BK93' 'BX07']\n",
      "\n",
      "#################### nta_name ####################\n",
      "['Forest Hills' 'Whitestone' 'East Williamsburg' 'Park Slope-Gowanus'\n",
      " 'Lincoln Square' 'Clinton' 'Grasmere-Arrochar-Ft. Wadsworth' 'Gravesend'\n",
      " 'Steinway' 'Great Kills' 'Clinton Hill' 'Brownsville' 'Bensonhurst East'\n",
      " 'Flatbush' 'Corona' 'Fort Greene' 'Upper East Side-Carnegie Hill'\n",
      " 'Upper West Side' 'Oakwood-Oakwood Beach' 'Kew Gardens'\n",
      " 'Ocean Parkway South' 'Chinatown' 'Ridgewood' 'East Tremont'\n",
      " 'Old Town-Dongan Hills-South Beach' 'New Dorp-Midland Beach'\n",
      " 'Sheepshead Bay-Gerritsen Beach-Manhattan Beach'\n",
      " 'Stuyvesant Town-Cooper Village' 'SoHo-TriBeCa-Civic Center-Little Italy'\n",
      " 'Todt Hill-Emerson Hill-Heartland Village-Lighthous' 'Madison'\n",
      " 'Queensboro Hill' \"Annadale-Huguenot-Prince's Bay-Eltingville\" 'Belmont'\n",
      " 'Mount Hope' 'Arden Heights' 'Murray Hill-Kips Bay' 'West Village'\n",
      " 'Carroll Gardens-Columbia Street-Red Hook' 'Morningside Heights'\n",
      " 'Jackson Heights' 'Norwood' 'University Heights-Morris Heights'\n",
      " 'Brighton Beach' 'Bay Ridge' 'Midwood' 'Murray Hill'\n",
      " 'Rugby-Remsen Village' 'Flushing' 'Far Rockaway-Bayswater'\n",
      " 'Bushwick North' 'Hammels-Arverne-Edgemere' 'Fordham South'\n",
      " 'Springfield Gardens South-Brookville' 'Rego Park' 'Queens Village'\n",
      " 'Prospect Heights' 'Bensonhurst West' 'Erasmus' 'Woodlawn-Wakefield'\n",
      " 'East Elmhurst' 'Lenox Hill-Roosevelt Island' 'Astoria' 'Gramercy'\n",
      " 'Woodhaven' 'Breezy Point-Belle Harbor-Rockaway Park-Broad Chan'\n",
      " 'Kensington-Ocean Parkway' 'Fresh Meadows-Utopia' 'Auburndale'\n",
      " 'Greenpoint' 'New Springville-Bloomfield-Travis' 'Van Cortlandt Village'\n",
      " 'Flatlands' 'Homecrest' 'Midtown-Midtown South' 'Glendale'\n",
      " 'Battery Park City-Lower Manhattan' 'Central Harlem South'\n",
      " 'Hunters Point-Sunnyside-West Maspeth' 'Borough Park' 'St. Albans'\n",
      " 'Laurelton' 'Bayside-Bayside Hills' 'Oakland Gardens'\n",
      " 'Jamaica Estates-Holliswood' 'College Point' 'Claremont-Bathgate'\n",
      " 'Turtle Bay-East Midtown' 'Highbridge'\n",
      " 'Douglas Manor-Douglaston-Little Neck' 'Crown Heights North'\n",
      " 'North Side-South Side' 'Pelham Parkway' 'Old Astoria'\n",
      " 'Lindenwood-Howard Beach' 'East New York' 'Bushwick South' 'Ocean Hill'\n",
      " 'Prospect Lefferts Gardens-Wingate' 'Lower East Side'\n",
      " 'Hudson Yards-Chelsea-Flatiron-Union Square' 'Sunset Park East' 'Bedford'\n",
      " 'West Farms-Bronx River' 'Richmond Hill' 'Westerleigh'\n",
      " 'Schuylerville-Throgs Neck-Edgewater Park'\n",
      " 'Georgetown-Marine Park-Bergen Beach-Mill Basin' 'Yorkville'\n",
      " 'Eastchester-Edenwald-Baychester' 'Elmhurst-Maspeth' 'Stuyvesant Heights'\n",
      " 'Kingsbridge Heights' 'Van Nest-Morris Park-Westchester Square'\n",
      " 'Melrose South-Mott Haven North' 'East New York (Pennsylvania Ave)'\n",
      " 'Bath Beach' 'Seagate-Coney Island' 'Rossville-Woodrow' 'East Village'\n",
      " 'Cypress Hills-City Line' 'Canarsie' 'Sunset Park West'\n",
      " 'Washington Heights South' 'Charleston-Richmond Valley-Tottenville'\n",
      " 'Kew Gardens Hills' 'Pelham Bay-Country Club-City Island' 'Williamsburg'\n",
      " 'East Harlem South' 'Woodside' 'New Brighton-Silver Lake' 'Bellerose'\n",
      " 'Crotona Park East' 'Dyker Heights' 'Elmhurst'\n",
      " \"Mariner's Harbor-Arlington-Port Ivory-Graniteville\"\n",
      " 'Glen Oaks-Floral Park-New Hyde Park' 'Crown Heights South'\n",
      " 'Hamilton Heights' 'South Ozone Park' 'Manhattanville'\n",
      " 'Ft. Totten-Bay Terrace-Clearview' 'Longwood' 'Cambria Heights'\n",
      " 'Stapleton-Rosebank' 'East Flatbush-Farragut' 'West Brighton'\n",
      " 'Mott Haven-Port Morris'\n",
      " 'Soundview-Castle Hill-Clason Point-Harding Park'\n",
      " 'DUMBO-Vinegar Hill-Downtown Brooklyn-Boerum Hill' 'West Concourse'\n",
      " 'Bedford Park-Fordham North' 'Rosedale' 'Spuyten Duyvil-Kingsbridge'\n",
      " 'Ozone Park' 'Marble Hill-Inwood' 'Hunts Point'\n",
      " 'West New Brighton-New Brighton-St. George' 'Briarwood-Jamaica Hills'\n",
      " 'Queensbridge-Ravenswood-Long Island City' 'Windsor Terrace'\n",
      " 'Williamsbridge-Olinville' 'Washington Heights North' 'East Flushing'\n",
      " 'Pomonok-Flushing Heights-Hillcrest' 'East Concourse-Concourse Village'\n",
      " 'North Riverdale-Fieldston-Riverdale' 'Brooklyn Heights-Cobble Hill'\n",
      " 'Port Richmond' 'Grymes Hill-Clifton-Fox Hills' 'East Harlem North'\n",
      " 'North Corona' 'Morrisania-Melrose' 'Soundview-Bruckner'\n",
      " 'Allerton-Pelham Gardens' 'Jamaica' 'Parkchester'\n",
      " 'Central Harlem North-Polo Grounds' 'Co-op City' 'Middle Village'\n",
      " 'Hollis' 'Baisley Park' 'Maspeth' 'South Jamaica' 'Westchester-Unionport'\n",
      " 'Springfield Gardens North' 'Starrett City' 'Bronxdale']\n",
      "\n",
      "#################### state ####################\n",
      "['New York']\n",
      "\n"
     ]
    }
   ],
   "source": [
    "print(\"7. Unique values of original features with less than 204 unique values:\")\n",
    "for column in df.columns:\n",
    "    if df[column].nunique() < 200:\n",
    "        print(f\"#################### {column} ####################\")\n",
    "        print(df[column].unique())\n",
    "        print()"
   ]
  },
  {
   "cell_type": "code",
   "execution_count": 11,
   "metadata": {},
   "outputs": [
    {
     "output_type": "stream",
     "name": "stdout",
     "text": [
      "8. Statistical info of each original feature:\n"
     ]
    },
    {
     "output_type": "execute_result",
     "data": {
      "text/plain": [
       "               count unique                                           top  \\\n",
       "created_at    100000    146                                    09/23/2015   \n",
       "tree_id     100000.0    NaN                                           NaN   \n",
       "block_id    100000.0    NaN                                           NaN   \n",
       "the_geom      100000  99962  POINT (-73.95680061508556 40.61596593024687)   \n",
       "tree_dbh    100000.0    NaN                                           NaN   \n",
       "stump_diam  100000.0    NaN                                           NaN   \n",
       "curb_loc      100000      2                                        OnCurb   \n",
       "status        100000      3                                         Alive   \n",
       "health         95007      3                                          Good   \n",
       "spc_latin      95008    125                         Platanus x acerifolia   \n",
       "spc_common     95008    125                              London planetree   \n",
       "steward        95008      4                                          None   \n",
       "guards         95008      4                                          None   \n",
       "sidewalk       95008      2                                      NoDamage   \n",
       "user_type     100000      3                                     Volunteer   \n",
       "problems       95008    151                                          None   \n",
       "root_stone    100000      2                                            No   \n",
       "root_grate    100000      2                                            No   \n",
       "root_other    100000      2                                            No   \n",
       "trnk_wire     100000      2                                            No   \n",
       "trnk_light    100000      2                                            No   \n",
       "trnk_other    100000      2                                            No   \n",
       "brnch_ligh    100000      2                                            No   \n",
       "brnch_shoe    100000      2                                            No   \n",
       "brnch_othe    100000      2                                            No   \n",
       "address       100000  66793                           28-055 ULMER STREET   \n",
       "zipcode     100000.0    NaN                                           NaN   \n",
       "zip_city      100000     47                                      Brooklyn   \n",
       "cb_num      100000.0    NaN                                           NaN   \n",
       "borocode    100000.0    NaN                                           NaN   \n",
       "boroname      100000      5                                        Queens   \n",
       "cncldist    100000.0    NaN                                           NaN   \n",
       "st_assem    100000.0    NaN                                           NaN   \n",
       "st_senate   100000.0    NaN                                           NaN   \n",
       "nta           100000    188                                          QN43   \n",
       "nta_name      100000    188                                     Bellerose   \n",
       "boro_ct     100000.0    NaN                                           NaN   \n",
       "state         100000      1                                      New York   \n",
       "latitude    100000.0    NaN                                           NaN   \n",
       "longitude   100000.0    NaN                                           NaN   \n",
       "x_sp        100000.0    NaN                                           NaN   \n",
       "y_sp        100000.0    NaN                                           NaN   \n",
       "\n",
       "              freq            mean             std            min  \\\n",
       "created_at    3916             NaN             NaN            NaN   \n",
       "tree_id        NaN    233739.45083    42482.723266            7.0   \n",
       "block_id       NaN    289398.95714   122324.350099       100002.0   \n",
       "the_geom        17             NaN             NaN            NaN   \n",
       "tree_dbh       NaN        11.26171        8.544646            0.0   \n",
       "stump_diam     NaN         0.47271        3.457305            0.0   \n",
       "curb_loc     96129             NaN             NaN            NaN   \n",
       "status       95008             NaN             NaN            NaN   \n",
       "health       72340             NaN             NaN            NaN   \n",
       "spc_latin    11976             NaN             NaN            NaN   \n",
       "spc_common   11976             NaN             NaN            NaN   \n",
       "steward      65996             NaN             NaN            NaN   \n",
       "guards       78958             NaN             NaN            NaN   \n",
       "sidewalk     65686             NaN             NaN            NaN   \n",
       "user_type    45924             NaN             NaN            NaN   \n",
       "problems     55672             NaN             NaN            NaN   \n",
       "root_stone   75740             NaN             NaN            NaN   \n",
       "root_grate   99043             NaN             NaN            NaN   \n",
       "root_other   93909             NaN             NaN            NaN   \n",
       "trnk_wire    97838             NaN             NaN            NaN   \n",
       "trnk_light   99794             NaN             NaN            NaN   \n",
       "trnk_other   94332             NaN             NaN            NaN   \n",
       "brnch_ligh   90049             NaN             NaN            NaN   \n",
       "brnch_shoe   99935             NaN             NaN            NaN   \n",
       "brnch_othe   94751             NaN             NaN            NaN   \n",
       "address         47             NaN             NaN            NaN   \n",
       "zipcode        NaN     10824.77388      835.683247           83.0   \n",
       "zip_city     26795             NaN             NaN            NaN   \n",
       "cb_num         NaN       316.04452      125.875538          101.0   \n",
       "borocode       NaN         3.08383        1.264942            1.0   \n",
       "boroname     32562             NaN             NaN            NaN   \n",
       "cncldist       NaN        27.33749       15.184746            1.0   \n",
       "st_assem       NaN        52.32363       18.440296           23.0   \n",
       "st_senate      NaN        21.39521          7.4755           10.0   \n",
       "nta           3149             NaN             NaN            NaN   \n",
       "nta_name      3149             NaN             NaN            NaN   \n",
       "boro_ct        NaN   3128151.62032  1278944.193038      1000201.0   \n",
       "state       100000             NaN             NaN            NaN   \n",
       "latitude       NaN       40.711146         0.08948      40.498466   \n",
       "longitude      NaN      -73.927091        0.115706     -74.254385   \n",
       "x_sp           NaN  1004439.988645    32093.177819  913509.472506   \n",
       "y_sp           NaN   198395.834131    32599.847353  120973.792223   \n",
       "\n",
       "                      25%            50%             75%            max  \n",
       "created_at            NaN            NaN             NaN            NaN  \n",
       "tree_id         208734.75       235822.5       264692.25       318496.0  \n",
       "block_id         212550.0       305825.0        347898.5       516315.0  \n",
       "the_geom              NaN            NaN             NaN            NaN  \n",
       "tree_dbh              5.0           10.0            16.0          425.0  \n",
       "stump_diam            0.0            0.0             0.0          140.0  \n",
       "curb_loc              NaN            NaN             NaN            NaN  \n",
       "status                NaN            NaN             NaN            NaN  \n",
       "health                NaN            NaN             NaN            NaN  \n",
       "spc_latin             NaN            NaN             NaN            NaN  \n",
       "spc_common            NaN            NaN             NaN            NaN  \n",
       "steward               NaN            NaN             NaN            NaN  \n",
       "guards                NaN            NaN             NaN            NaN  \n",
       "sidewalk              NaN            NaN             NaN            NaN  \n",
       "user_type             NaN            NaN             NaN            NaN  \n",
       "problems              NaN            NaN             NaN            NaN  \n",
       "root_stone            NaN            NaN             NaN            NaN  \n",
       "root_grate            NaN            NaN             NaN            NaN  \n",
       "root_other            NaN            NaN             NaN            NaN  \n",
       "trnk_wire             NaN            NaN             NaN            NaN  \n",
       "trnk_light            NaN            NaN             NaN            NaN  \n",
       "trnk_other            NaN            NaN             NaN            NaN  \n",
       "brnch_ligh            NaN            NaN             NaN            NaN  \n",
       "brnch_shoe            NaN            NaN             NaN            NaN  \n",
       "brnch_othe            NaN            NaN             NaN            NaN  \n",
       "address               NaN            NaN             NaN            NaN  \n",
       "zipcode           10309.0        11208.0         11356.0        11697.0  \n",
       "zip_city              NaN            NaN             NaN            NaN  \n",
       "cb_num              210.0          314.0           411.0          503.0  \n",
       "borocode              2.0            3.0             4.0            5.0  \n",
       "boroname              NaN            NaN             NaN            NaN  \n",
       "cncldist             14.0           26.0            40.0           51.0  \n",
       "st_assem             35.0           52.0            67.0           87.0  \n",
       "st_senate            14.0           22.0            27.0           36.0  \n",
       "nta                   NaN            NaN             NaN            NaN  \n",
       "nta_name              NaN            NaN             NaN            NaN  \n",
       "boro_ct         2028800.0      3059300.0       4080301.0      5031902.0  \n",
       "state                 NaN            NaN             NaN            NaN  \n",
       "latitude         40.63796      40.723607       40.770754      40.912807  \n",
       "longitude      -73.977336     -73.938527      -73.849516     -73.700488  \n",
       "x_sp        990535.318946  1001277.60996  1025894.930722  1067247.62369  \n",
       "y_sp        171705.706261  202947.289857    220095.06273  271853.443547  "
      ],
      "text/html": "<div>\n<style scoped>\n    .dataframe tbody tr th:only-of-type {\n        vertical-align: middle;\n    }\n\n    .dataframe tbody tr th {\n        vertical-align: top;\n    }\n\n    .dataframe thead th {\n        text-align: right;\n    }\n</style>\n<table border=\"1\" class=\"dataframe\">\n  <thead>\n    <tr style=\"text-align: right;\">\n      <th></th>\n      <th>count</th>\n      <th>unique</th>\n      <th>top</th>\n      <th>freq</th>\n      <th>mean</th>\n      <th>std</th>\n      <th>min</th>\n      <th>25%</th>\n      <th>50%</th>\n      <th>75%</th>\n      <th>max</th>\n    </tr>\n  </thead>\n  <tbody>\n    <tr>\n      <th>created_at</th>\n      <td>100000</td>\n      <td>146</td>\n      <td>09/23/2015</td>\n      <td>3916</td>\n      <td>NaN</td>\n      <td>NaN</td>\n      <td>NaN</td>\n      <td>NaN</td>\n      <td>NaN</td>\n      <td>NaN</td>\n      <td>NaN</td>\n    </tr>\n    <tr>\n      <th>tree_id</th>\n      <td>100000.0</td>\n      <td>NaN</td>\n      <td>NaN</td>\n      <td>NaN</td>\n      <td>233739.45083</td>\n      <td>42482.723266</td>\n      <td>7.0</td>\n      <td>208734.75</td>\n      <td>235822.5</td>\n      <td>264692.25</td>\n      <td>318496.0</td>\n    </tr>\n    <tr>\n      <th>block_id</th>\n      <td>100000.0</td>\n      <td>NaN</td>\n      <td>NaN</td>\n      <td>NaN</td>\n      <td>289398.95714</td>\n      <td>122324.350099</td>\n      <td>100002.0</td>\n      <td>212550.0</td>\n      <td>305825.0</td>\n      <td>347898.5</td>\n      <td>516315.0</td>\n    </tr>\n    <tr>\n      <th>the_geom</th>\n      <td>100000</td>\n      <td>99962</td>\n      <td>POINT (-73.95680061508556 40.61596593024687)</td>\n      <td>17</td>\n      <td>NaN</td>\n      <td>NaN</td>\n      <td>NaN</td>\n      <td>NaN</td>\n      <td>NaN</td>\n      <td>NaN</td>\n      <td>NaN</td>\n    </tr>\n    <tr>\n      <th>tree_dbh</th>\n      <td>100000.0</td>\n      <td>NaN</td>\n      <td>NaN</td>\n      <td>NaN</td>\n      <td>11.26171</td>\n      <td>8.544646</td>\n      <td>0.0</td>\n      <td>5.0</td>\n      <td>10.0</td>\n      <td>16.0</td>\n      <td>425.0</td>\n    </tr>\n    <tr>\n      <th>stump_diam</th>\n      <td>100000.0</td>\n      <td>NaN</td>\n      <td>NaN</td>\n      <td>NaN</td>\n      <td>0.47271</td>\n      <td>3.457305</td>\n      <td>0.0</td>\n      <td>0.0</td>\n      <td>0.0</td>\n      <td>0.0</td>\n      <td>140.0</td>\n    </tr>\n    <tr>\n      <th>curb_loc</th>\n      <td>100000</td>\n      <td>2</td>\n      <td>OnCurb</td>\n      <td>96129</td>\n      <td>NaN</td>\n      <td>NaN</td>\n      <td>NaN</td>\n      <td>NaN</td>\n      <td>NaN</td>\n      <td>NaN</td>\n      <td>NaN</td>\n    </tr>\n    <tr>\n      <th>status</th>\n      <td>100000</td>\n      <td>3</td>\n      <td>Alive</td>\n      <td>95008</td>\n      <td>NaN</td>\n      <td>NaN</td>\n      <td>NaN</td>\n      <td>NaN</td>\n      <td>NaN</td>\n      <td>NaN</td>\n      <td>NaN</td>\n    </tr>\n    <tr>\n      <th>health</th>\n      <td>95007</td>\n      <td>3</td>\n      <td>Good</td>\n      <td>72340</td>\n      <td>NaN</td>\n      <td>NaN</td>\n      <td>NaN</td>\n      <td>NaN</td>\n      <td>NaN</td>\n      <td>NaN</td>\n      <td>NaN</td>\n    </tr>\n    <tr>\n      <th>spc_latin</th>\n      <td>95008</td>\n      <td>125</td>\n      <td>Platanus x acerifolia</td>\n      <td>11976</td>\n      <td>NaN</td>\n      <td>NaN</td>\n      <td>NaN</td>\n      <td>NaN</td>\n      <td>NaN</td>\n      <td>NaN</td>\n      <td>NaN</td>\n    </tr>\n    <tr>\n      <th>spc_common</th>\n      <td>95008</td>\n      <td>125</td>\n      <td>London planetree</td>\n      <td>11976</td>\n      <td>NaN</td>\n      <td>NaN</td>\n      <td>NaN</td>\n      <td>NaN</td>\n      <td>NaN</td>\n      <td>NaN</td>\n      <td>NaN</td>\n    </tr>\n    <tr>\n      <th>steward</th>\n      <td>95008</td>\n      <td>4</td>\n      <td>None</td>\n      <td>65996</td>\n      <td>NaN</td>\n      <td>NaN</td>\n      <td>NaN</td>\n      <td>NaN</td>\n      <td>NaN</td>\n      <td>NaN</td>\n      <td>NaN</td>\n    </tr>\n    <tr>\n      <th>guards</th>\n      <td>95008</td>\n      <td>4</td>\n      <td>None</td>\n      <td>78958</td>\n      <td>NaN</td>\n      <td>NaN</td>\n      <td>NaN</td>\n      <td>NaN</td>\n      <td>NaN</td>\n      <td>NaN</td>\n      <td>NaN</td>\n    </tr>\n    <tr>\n      <th>sidewalk</th>\n      <td>95008</td>\n      <td>2</td>\n      <td>NoDamage</td>\n      <td>65686</td>\n      <td>NaN</td>\n      <td>NaN</td>\n      <td>NaN</td>\n      <td>NaN</td>\n      <td>NaN</td>\n      <td>NaN</td>\n      <td>NaN</td>\n    </tr>\n    <tr>\n      <th>user_type</th>\n      <td>100000</td>\n      <td>3</td>\n      <td>Volunteer</td>\n      <td>45924</td>\n      <td>NaN</td>\n      <td>NaN</td>\n      <td>NaN</td>\n      <td>NaN</td>\n      <td>NaN</td>\n      <td>NaN</td>\n      <td>NaN</td>\n    </tr>\n    <tr>\n      <th>problems</th>\n      <td>95008</td>\n      <td>151</td>\n      <td>None</td>\n      <td>55672</td>\n      <td>NaN</td>\n      <td>NaN</td>\n      <td>NaN</td>\n      <td>NaN</td>\n      <td>NaN</td>\n      <td>NaN</td>\n      <td>NaN</td>\n    </tr>\n    <tr>\n      <th>root_stone</th>\n      <td>100000</td>\n      <td>2</td>\n      <td>No</td>\n      <td>75740</td>\n      <td>NaN</td>\n      <td>NaN</td>\n      <td>NaN</td>\n      <td>NaN</td>\n      <td>NaN</td>\n      <td>NaN</td>\n      <td>NaN</td>\n    </tr>\n    <tr>\n      <th>root_grate</th>\n      <td>100000</td>\n      <td>2</td>\n      <td>No</td>\n      <td>99043</td>\n      <td>NaN</td>\n      <td>NaN</td>\n      <td>NaN</td>\n      <td>NaN</td>\n      <td>NaN</td>\n      <td>NaN</td>\n      <td>NaN</td>\n    </tr>\n    <tr>\n      <th>root_other</th>\n      <td>100000</td>\n      <td>2</td>\n      <td>No</td>\n      <td>93909</td>\n      <td>NaN</td>\n      <td>NaN</td>\n      <td>NaN</td>\n      <td>NaN</td>\n      <td>NaN</td>\n      <td>NaN</td>\n      <td>NaN</td>\n    </tr>\n    <tr>\n      <th>trnk_wire</th>\n      <td>100000</td>\n      <td>2</td>\n      <td>No</td>\n      <td>97838</td>\n      <td>NaN</td>\n      <td>NaN</td>\n      <td>NaN</td>\n      <td>NaN</td>\n      <td>NaN</td>\n      <td>NaN</td>\n      <td>NaN</td>\n    </tr>\n    <tr>\n      <th>trnk_light</th>\n      <td>100000</td>\n      <td>2</td>\n      <td>No</td>\n      <td>99794</td>\n      <td>NaN</td>\n      <td>NaN</td>\n      <td>NaN</td>\n      <td>NaN</td>\n      <td>NaN</td>\n      <td>NaN</td>\n      <td>NaN</td>\n    </tr>\n    <tr>\n      <th>trnk_other</th>\n      <td>100000</td>\n      <td>2</td>\n      <td>No</td>\n      <td>94332</td>\n      <td>NaN</td>\n      <td>NaN</td>\n      <td>NaN</td>\n      <td>NaN</td>\n      <td>NaN</td>\n      <td>NaN</td>\n      <td>NaN</td>\n    </tr>\n    <tr>\n      <th>brnch_ligh</th>\n      <td>100000</td>\n      <td>2</td>\n      <td>No</td>\n      <td>90049</td>\n      <td>NaN</td>\n      <td>NaN</td>\n      <td>NaN</td>\n      <td>NaN</td>\n      <td>NaN</td>\n      <td>NaN</td>\n      <td>NaN</td>\n    </tr>\n    <tr>\n      <th>brnch_shoe</th>\n      <td>100000</td>\n      <td>2</td>\n      <td>No</td>\n      <td>99935</td>\n      <td>NaN</td>\n      <td>NaN</td>\n      <td>NaN</td>\n      <td>NaN</td>\n      <td>NaN</td>\n      <td>NaN</td>\n      <td>NaN</td>\n    </tr>\n    <tr>\n      <th>brnch_othe</th>\n      <td>100000</td>\n      <td>2</td>\n      <td>No</td>\n      <td>94751</td>\n      <td>NaN</td>\n      <td>NaN</td>\n      <td>NaN</td>\n      <td>NaN</td>\n      <td>NaN</td>\n      <td>NaN</td>\n      <td>NaN</td>\n    </tr>\n    <tr>\n      <th>address</th>\n      <td>100000</td>\n      <td>66793</td>\n      <td>28-055 ULMER STREET</td>\n      <td>47</td>\n      <td>NaN</td>\n      <td>NaN</td>\n      <td>NaN</td>\n      <td>NaN</td>\n      <td>NaN</td>\n      <td>NaN</td>\n      <td>NaN</td>\n    </tr>\n    <tr>\n      <th>zipcode</th>\n      <td>100000.0</td>\n      <td>NaN</td>\n      <td>NaN</td>\n      <td>NaN</td>\n      <td>10824.77388</td>\n      <td>835.683247</td>\n      <td>83.0</td>\n      <td>10309.0</td>\n      <td>11208.0</td>\n      <td>11356.0</td>\n      <td>11697.0</td>\n    </tr>\n    <tr>\n      <th>zip_city</th>\n      <td>100000</td>\n      <td>47</td>\n      <td>Brooklyn</td>\n      <td>26795</td>\n      <td>NaN</td>\n      <td>NaN</td>\n      <td>NaN</td>\n      <td>NaN</td>\n      <td>NaN</td>\n      <td>NaN</td>\n      <td>NaN</td>\n    </tr>\n    <tr>\n      <th>cb_num</th>\n      <td>100000.0</td>\n      <td>NaN</td>\n      <td>NaN</td>\n      <td>NaN</td>\n      <td>316.04452</td>\n      <td>125.875538</td>\n      <td>101.0</td>\n      <td>210.0</td>\n      <td>314.0</td>\n      <td>411.0</td>\n      <td>503.0</td>\n    </tr>\n    <tr>\n      <th>borocode</th>\n      <td>100000.0</td>\n      <td>NaN</td>\n      <td>NaN</td>\n      <td>NaN</td>\n      <td>3.08383</td>\n      <td>1.264942</td>\n      <td>1.0</td>\n      <td>2.0</td>\n      <td>3.0</td>\n      <td>4.0</td>\n      <td>5.0</td>\n    </tr>\n    <tr>\n      <th>boroname</th>\n      <td>100000</td>\n      <td>5</td>\n      <td>Queens</td>\n      <td>32562</td>\n      <td>NaN</td>\n      <td>NaN</td>\n      <td>NaN</td>\n      <td>NaN</td>\n      <td>NaN</td>\n      <td>NaN</td>\n      <td>NaN</td>\n    </tr>\n    <tr>\n      <th>cncldist</th>\n      <td>100000.0</td>\n      <td>NaN</td>\n      <td>NaN</td>\n      <td>NaN</td>\n      <td>27.33749</td>\n      <td>15.184746</td>\n      <td>1.0</td>\n      <td>14.0</td>\n      <td>26.0</td>\n      <td>40.0</td>\n      <td>51.0</td>\n    </tr>\n    <tr>\n      <th>st_assem</th>\n      <td>100000.0</td>\n      <td>NaN</td>\n      <td>NaN</td>\n      <td>NaN</td>\n      <td>52.32363</td>\n      <td>18.440296</td>\n      <td>23.0</td>\n      <td>35.0</td>\n      <td>52.0</td>\n      <td>67.0</td>\n      <td>87.0</td>\n    </tr>\n    <tr>\n      <th>st_senate</th>\n      <td>100000.0</td>\n      <td>NaN</td>\n      <td>NaN</td>\n      <td>NaN</td>\n      <td>21.39521</td>\n      <td>7.4755</td>\n      <td>10.0</td>\n      <td>14.0</td>\n      <td>22.0</td>\n      <td>27.0</td>\n      <td>36.0</td>\n    </tr>\n    <tr>\n      <th>nta</th>\n      <td>100000</td>\n      <td>188</td>\n      <td>QN43</td>\n      <td>3149</td>\n      <td>NaN</td>\n      <td>NaN</td>\n      <td>NaN</td>\n      <td>NaN</td>\n      <td>NaN</td>\n      <td>NaN</td>\n      <td>NaN</td>\n    </tr>\n    <tr>\n      <th>nta_name</th>\n      <td>100000</td>\n      <td>188</td>\n      <td>Bellerose</td>\n      <td>3149</td>\n      <td>NaN</td>\n      <td>NaN</td>\n      <td>NaN</td>\n      <td>NaN</td>\n      <td>NaN</td>\n      <td>NaN</td>\n      <td>NaN</td>\n    </tr>\n    <tr>\n      <th>boro_ct</th>\n      <td>100000.0</td>\n      <td>NaN</td>\n      <td>NaN</td>\n      <td>NaN</td>\n      <td>3128151.62032</td>\n      <td>1278944.193038</td>\n      <td>1000201.0</td>\n      <td>2028800.0</td>\n      <td>3059300.0</td>\n      <td>4080301.0</td>\n      <td>5031902.0</td>\n    </tr>\n    <tr>\n      <th>state</th>\n      <td>100000</td>\n      <td>1</td>\n      <td>New York</td>\n      <td>100000</td>\n      <td>NaN</td>\n      <td>NaN</td>\n      <td>NaN</td>\n      <td>NaN</td>\n      <td>NaN</td>\n      <td>NaN</td>\n      <td>NaN</td>\n    </tr>\n    <tr>\n      <th>latitude</th>\n      <td>100000.0</td>\n      <td>NaN</td>\n      <td>NaN</td>\n      <td>NaN</td>\n      <td>40.711146</td>\n      <td>0.08948</td>\n      <td>40.498466</td>\n      <td>40.63796</td>\n      <td>40.723607</td>\n      <td>40.770754</td>\n      <td>40.912807</td>\n    </tr>\n    <tr>\n      <th>longitude</th>\n      <td>100000.0</td>\n      <td>NaN</td>\n      <td>NaN</td>\n      <td>NaN</td>\n      <td>-73.927091</td>\n      <td>0.115706</td>\n      <td>-74.254385</td>\n      <td>-73.977336</td>\n      <td>-73.938527</td>\n      <td>-73.849516</td>\n      <td>-73.700488</td>\n    </tr>\n    <tr>\n      <th>x_sp</th>\n      <td>100000.0</td>\n      <td>NaN</td>\n      <td>NaN</td>\n      <td>NaN</td>\n      <td>1004439.988645</td>\n      <td>32093.177819</td>\n      <td>913509.472506</td>\n      <td>990535.318946</td>\n      <td>1001277.60996</td>\n      <td>1025894.930722</td>\n      <td>1067247.62369</td>\n    </tr>\n    <tr>\n      <th>y_sp</th>\n      <td>100000.0</td>\n      <td>NaN</td>\n      <td>NaN</td>\n      <td>NaN</td>\n      <td>198395.834131</td>\n      <td>32599.847353</td>\n      <td>120973.792223</td>\n      <td>171705.706261</td>\n      <td>202947.289857</td>\n      <td>220095.06273</td>\n      <td>271853.443547</td>\n    </tr>\n  </tbody>\n</table>\n</div>"
     },
     "metadata": {},
     "execution_count": 11
    }
   ],
   "source": [
    "print(\"8. Statistical info of each original feature:\")\n",
    "df.describe(include='all').T"
   ]
  },
  {
   "cell_type": "code",
   "execution_count": 12,
   "metadata": {},
   "outputs": [
    {
     "output_type": "stream",
     "name": "stdout",
     "text": [
      "9. Duplicates in the dataset? \n"
     ]
    },
    {
     "output_type": "execute_result",
     "data": {
      "text/plain": [
       "False"
      ]
     },
     "metadata": {},
     "execution_count": 12
    }
   ],
   "source": [
    "print(\"9. Duplicates in the dataset? \")\n",
    "df.duplicated().any()"
   ]
  },
  {
   "source": [
    "### Explore deeper missing values"
   ],
   "cell_type": "markdown",
   "metadata": {}
  },
  {
   "source": [
    "health        4993\n",
    "spc_latin     4992\n",
    "spc_common    4992\n",
    "steward       4992\n",
    "guards        4992\n",
    "sidewalk      4992\n",
    "user_type        0\n",
    "problems      4992"
   ],
   "cell_type": "markdown",
   "metadata": {}
  },
  {
   "cell_type": "code",
   "execution_count": 34,
   "metadata": {},
   "outputs": [
    {
     "output_type": "stream",
     "name": "stdout",
     "text": [
      "Original features with missing values:\n"
     ]
    },
    {
     "output_type": "execute_result",
     "data": {
      "text/plain": [
       "Index(['health', 'spc_latin', 'spc_common', 'steward', 'guards', 'sidewalk',\n",
       "       'problems'],\n",
       "      dtype='object')"
      ]
     },
     "metadata": {},
     "execution_count": 34
    }
   ],
   "source": [
    "print(\"Original features with missing values:\")\n",
    "cols_with_nan = df.loc[:, df.isnull().sum() > 0].columns\n",
    "cols_with_nan"
   ]
  },
  {
   "cell_type": "code",
   "execution_count": 51,
   "metadata": {},
   "outputs": [
    {
     "output_type": "execute_result",
     "data": {
      "text/plain": [
       "['health',\n",
       " 'spc_latin',\n",
       " 'spc_common',\n",
       " 'steward',\n",
       " 'guards',\n",
       " 'sidewalk',\n",
       " 'problems',\n",
       " 'status']"
      ]
     },
     "metadata": {},
     "execution_count": 51
    }
   ],
   "source": [
    "# Add status to the list of features with missing values\n",
    "cols_with_nan_and_status = cols_with_nan.values.tolist()\n",
    "cols_with_nan_and_status.append(\"status\")\n",
    "cols_with_nan_and_status"
   ]
  },
  {
   "cell_type": "code",
   "execution_count": 63,
   "metadata": {},
   "outputs": [
    {
     "output_type": "execute_result",
     "data": {
      "text/plain": [
       "        health  spc_latin  spc_common  steward  guards  sidewalk  problems\n",
       "status                                                                    \n",
       "Alive    95007      95008       95008    95008   95008     95008     95008\n",
       "Dead         0          0           0        0       0         0         0\n",
       "Stump        0          0           0        0       0         0         0"
      ],
      "text/html": "<div>\n<style scoped>\n    .dataframe tbody tr th:only-of-type {\n        vertical-align: middle;\n    }\n\n    .dataframe tbody tr th {\n        vertical-align: top;\n    }\n\n    .dataframe thead th {\n        text-align: right;\n    }\n</style>\n<table border=\"1\" class=\"dataframe\">\n  <thead>\n    <tr style=\"text-align: right;\">\n      <th></th>\n      <th>health</th>\n      <th>spc_latin</th>\n      <th>spc_common</th>\n      <th>steward</th>\n      <th>guards</th>\n      <th>sidewalk</th>\n      <th>problems</th>\n    </tr>\n    <tr>\n      <th>status</th>\n      <th></th>\n      <th></th>\n      <th></th>\n      <th></th>\n      <th></th>\n      <th></th>\n      <th></th>\n    </tr>\n  </thead>\n  <tbody>\n    <tr>\n      <th>Alive</th>\n      <td>95007</td>\n      <td>95008</td>\n      <td>95008</td>\n      <td>95008</td>\n      <td>95008</td>\n      <td>95008</td>\n      <td>95008</td>\n    </tr>\n    <tr>\n      <th>Dead</th>\n      <td>0</td>\n      <td>0</td>\n      <td>0</td>\n      <td>0</td>\n      <td>0</td>\n      <td>0</td>\n      <td>0</td>\n    </tr>\n    <tr>\n      <th>Stump</th>\n      <td>0</td>\n      <td>0</td>\n      <td>0</td>\n      <td>0</td>\n      <td>0</td>\n      <td>0</td>\n      <td>0</td>\n    </tr>\n  </tbody>\n</table>\n</div>"
     },
     "metadata": {},
     "execution_count": 63
    }
   ],
   "source": [
    "# Count number of values in each feature with nan per status \n",
    "df[cols_with_nan_and_status].groupby([\"status\"]).count()"
   ]
  },
  {
   "cell_type": "code",
   "execution_count": 61,
   "metadata": {},
   "outputs": [
    {
     "output_type": "execute_result",
     "data": {
      "text/plain": [
       "                                                   32794\n",
       "created_at                                    09/21/2015\n",
       "tree_id                                           245041\n",
       "block_id                                          413012\n",
       "the_geom    POINT (-74.21641202587655 40.54859739520807)\n",
       "tree_dbh                                              16\n",
       "stump_diam                                             0\n",
       "curb_loc                                          OnCurb\n",
       "status                                             Alive\n",
       "health                                               NaN\n",
       "spc_latin                         Fraxinus pennsylvanica\n",
       "spc_common                                     green ash\n",
       "steward                                             None\n",
       "guards                                              None\n",
       "sidewalk                                          Damage\n",
       "user_type                               TreesCount Staff\n",
       "problems                                            None\n",
       "root_stone                                            No\n",
       "root_grate                                            No\n",
       "root_other                                            No\n",
       "trnk_wire                                             No\n",
       "trnk_light                                            No\n",
       "trnk_other                                            No\n",
       "brnch_ligh                                            No\n",
       "brnch_shoe                                            No\n",
       "brnch_othe                                            No\n",
       "address                                84 LUCILLE AVENUE\n",
       "zipcode                                            10309\n",
       "zip_city                                   Staten Island\n",
       "cb_num                                               503\n",
       "borocode                                               5\n",
       "boroname                                   Staten Island\n",
       "cncldist                                              51\n",
       "st_assem                                              62\n",
       "st_senate                                             24\n",
       "nta                                                 SI32\n",
       "nta_name                               Rossville-Woodrow\n",
       "boro_ct                                          5020801\n",
       "state                                           New York\n",
       "latitude                                       40.548597\n",
       "longitude                                     -74.216412\n",
       "x_sp                                       924106.880773\n",
       "y_sp                                       139219.632044"
      ],
      "text/html": "<div>\n<style scoped>\n    .dataframe tbody tr th:only-of-type {\n        vertical-align: middle;\n    }\n\n    .dataframe tbody tr th {\n        vertical-align: top;\n    }\n\n    .dataframe thead th {\n        text-align: right;\n    }\n</style>\n<table border=\"1\" class=\"dataframe\">\n  <thead>\n    <tr style=\"text-align: right;\">\n      <th></th>\n      <th>32794</th>\n    </tr>\n  </thead>\n  <tbody>\n    <tr>\n      <th>created_at</th>\n      <td>09/21/2015</td>\n    </tr>\n    <tr>\n      <th>tree_id</th>\n      <td>245041</td>\n    </tr>\n    <tr>\n      <th>block_id</th>\n      <td>413012</td>\n    </tr>\n    <tr>\n      <th>the_geom</th>\n      <td>POINT (-74.21641202587655 40.54859739520807)</td>\n    </tr>\n    <tr>\n      <th>tree_dbh</th>\n      <td>16</td>\n    </tr>\n    <tr>\n      <th>stump_diam</th>\n      <td>0</td>\n    </tr>\n    <tr>\n      <th>curb_loc</th>\n      <td>OnCurb</td>\n    </tr>\n    <tr>\n      <th>status</th>\n      <td>Alive</td>\n    </tr>\n    <tr>\n      <th>health</th>\n      <td>NaN</td>\n    </tr>\n    <tr>\n      <th>spc_latin</th>\n      <td>Fraxinus pennsylvanica</td>\n    </tr>\n    <tr>\n      <th>spc_common</th>\n      <td>green ash</td>\n    </tr>\n    <tr>\n      <th>steward</th>\n      <td>None</td>\n    </tr>\n    <tr>\n      <th>guards</th>\n      <td>None</td>\n    </tr>\n    <tr>\n      <th>sidewalk</th>\n      <td>Damage</td>\n    </tr>\n    <tr>\n      <th>user_type</th>\n      <td>TreesCount Staff</td>\n    </tr>\n    <tr>\n      <th>problems</th>\n      <td>None</td>\n    </tr>\n    <tr>\n      <th>root_stone</th>\n      <td>No</td>\n    </tr>\n    <tr>\n      <th>root_grate</th>\n      <td>No</td>\n    </tr>\n    <tr>\n      <th>root_other</th>\n      <td>No</td>\n    </tr>\n    <tr>\n      <th>trnk_wire</th>\n      <td>No</td>\n    </tr>\n    <tr>\n      <th>trnk_light</th>\n      <td>No</td>\n    </tr>\n    <tr>\n      <th>trnk_other</th>\n      <td>No</td>\n    </tr>\n    <tr>\n      <th>brnch_ligh</th>\n      <td>No</td>\n    </tr>\n    <tr>\n      <th>brnch_shoe</th>\n      <td>No</td>\n    </tr>\n    <tr>\n      <th>brnch_othe</th>\n      <td>No</td>\n    </tr>\n    <tr>\n      <th>address</th>\n      <td>84 LUCILLE AVENUE</td>\n    </tr>\n    <tr>\n      <th>zipcode</th>\n      <td>10309</td>\n    </tr>\n    <tr>\n      <th>zip_city</th>\n      <td>Staten Island</td>\n    </tr>\n    <tr>\n      <th>cb_num</th>\n      <td>503</td>\n    </tr>\n    <tr>\n      <th>borocode</th>\n      <td>5</td>\n    </tr>\n    <tr>\n      <th>boroname</th>\n      <td>Staten Island</td>\n    </tr>\n    <tr>\n      <th>cncldist</th>\n      <td>51</td>\n    </tr>\n    <tr>\n      <th>st_assem</th>\n      <td>62</td>\n    </tr>\n    <tr>\n      <th>st_senate</th>\n      <td>24</td>\n    </tr>\n    <tr>\n      <th>nta</th>\n      <td>SI32</td>\n    </tr>\n    <tr>\n      <th>nta_name</th>\n      <td>Rossville-Woodrow</td>\n    </tr>\n    <tr>\n      <th>boro_ct</th>\n      <td>5020801</td>\n    </tr>\n    <tr>\n      <th>state</th>\n      <td>New York</td>\n    </tr>\n    <tr>\n      <th>latitude</th>\n      <td>40.548597</td>\n    </tr>\n    <tr>\n      <th>longitude</th>\n      <td>-74.216412</td>\n    </tr>\n    <tr>\n      <th>x_sp</th>\n      <td>924106.880773</td>\n    </tr>\n    <tr>\n      <th>y_sp</th>\n      <td>139219.632044</td>\n    </tr>\n  </tbody>\n</table>\n</div>"
     },
     "metadata": {},
     "execution_count": 61
    }
   ],
   "source": [
    "# See example where `health` is null and status different than \"Dead\" or \"Stump\"\n",
    "df.loc[(df[\"health\"].isnull()) & (~df[\"status\"].isin([\"Dead\", \"Stump\"]))].T"
   ]
  },
  {
   "cell_type": "code",
   "execution_count": 78,
   "metadata": {},
   "outputs": [
    {
     "output_type": "execute_result",
     "data": {
      "text/plain": [
       "Alive    95008\n",
       "Stump     2831\n",
       "Dead      2161\n",
       "Name: status, dtype: int64"
      ]
     },
     "metadata": {},
     "execution_count": 78
    }
   ],
   "source": [
    "# Count how many trees per `status`\n",
    "df[\"status\"].value_counts()"
   ]
  },
  {
   "cell_type": "code",
   "execution_count": 79,
   "metadata": {},
   "outputs": [
    {
     "output_type": "execute_result",
     "data": {
      "text/plain": [
       "status  health\n",
       "Alive   Good      72340\n",
       "        Fair      17266\n",
       "        Poor       5401\n",
       "dtype: int64"
      ]
     },
     "metadata": {},
     "execution_count": 79
    }
   ],
   "source": [
    "# Count number of values per `status` and `health`\n",
    "df[[\"status\", \"health\"]].value_counts()"
   ]
  },
  {
   "source": [
    "### Observation notes\n",
    "#### Missing values\n",
    "* When `status` = \"Dead\" or \"Stump\":\n",
    "    - 'health', 'spc_latin', 'spc_common', 'steward', 'guards', 'sidewalk',\n",
    "       'problems' are empty.\n",
    "    - Potential issue: if we look at trees that are alive, a lot of them are considered healthy (\"Good\") and a few \"Poor\". Maybe due to when the trees are \"Dead\" or \"Stump\", no perception of health is given.\n",
    "    \n",
    "    => Question: for feature `health`, should we fill in \"poor\" when `status` is \"Dead\" or \"Stump\"? No, that could distort the information about `health` user's perception.\n",
    "\n",
    "    => Decision: \n",
    "        - for feature `health`, we are going to fill in \"Dead\" or \"Stump\" when `status` is \"Dead\" or \"Stump\" as this is a factual and correct health description.\n",
    "        - for the other features with missing values: we are going to populated them with the text \"NA\".\n",
    "\n",
    "\n",
    "* 1 particular case:\n",
    "    - There is one entry (=row) where `health` is null and `status` different than \"Dead\" or \"Stump\".\n",
    "\n",
    "    => Decision: drop this particular case. This won't have a big impact statistically.\n",
    "    \n",
    "\n",
    "### Data types\n",
    "* `created_at` is object (= string)\n",
    "\n",
    "    => Decision: Convert it into a *datetime64* feature\n",
    "\n",
    "\n"
   ],
   "cell_type": "markdown",
   "metadata": {}
  },
  {
   "source": [
    "## 4. Clean Dataset"
   ],
   "cell_type": "markdown",
   "metadata": {}
  },
  {
   "source": [
    "### Fix missing values"
   ],
   "cell_type": "markdown",
   "metadata": {}
  },
  {
   "cell_type": "code",
   "execution_count": 85,
   "metadata": {},
   "outputs": [],
   "source": [
    "# Fill in `health` with `status` when `status` is \"Dead\" or \"Stump\" and `health` is null\n",
    "condition = (df[\"status\"].isin([\"Dead\", \"Stump\"]) & df[\"health\"].isnull())\n",
    "df[\"health\"][(condition)] = df[\"status\"][(condition)]"
   ]
  },
  {
   "cell_type": "code",
   "execution_count": 88,
   "metadata": {},
   "outputs": [
    {
     "output_type": "execute_result",
     "data": {
      "text/plain": [
       "    health status\n",
       "630   Dead   Dead\n",
       "631  Stump  Stump\n",
       "634  Stump  Stump\n",
       "635   Dead   Dead\n",
       "636  Stump  Stump"
      ],
      "text/html": "<div>\n<style scoped>\n    .dataframe tbody tr th:only-of-type {\n        vertical-align: middle;\n    }\n\n    .dataframe tbody tr th {\n        vertical-align: top;\n    }\n\n    .dataframe thead th {\n        text-align: right;\n    }\n</style>\n<table border=\"1\" class=\"dataframe\">\n  <thead>\n    <tr style=\"text-align: right;\">\n      <th></th>\n      <th>health</th>\n      <th>status</th>\n    </tr>\n  </thead>\n  <tbody>\n    <tr>\n      <th>630</th>\n      <td>Dead</td>\n      <td>Dead</td>\n    </tr>\n    <tr>\n      <th>631</th>\n      <td>Stump</td>\n      <td>Stump</td>\n    </tr>\n    <tr>\n      <th>634</th>\n      <td>Stump</td>\n      <td>Stump</td>\n    </tr>\n    <tr>\n      <th>635</th>\n      <td>Dead</td>\n      <td>Dead</td>\n    </tr>\n    <tr>\n      <th>636</th>\n      <td>Stump</td>\n      <td>Stump</td>\n    </tr>\n  </tbody>\n</table>\n</div>"
     },
     "metadata": {},
     "execution_count": 88
    }
   ],
   "source": [
    "# Check if `health` is correctly mapped with `status` \"Dead\" or \"Stump\"\n",
    "df[[\"health\", \"status\"]][df[\"status\"].isin([\"Dead\", \"Stump\"])].head()"
   ]
  },
  {
   "cell_type": "code",
   "execution_count": 100,
   "metadata": {},
   "outputs": [],
   "source": [
    "# Original features with missing values\n",
    "cols_with_nan = df.loc[:, df.isnull().sum() > 0].columns\n",
    "for column in cols_with_nan:\n",
    "    df[column][df[column].isnull()] = \"NA\""
   ]
  },
  {
   "cell_type": "code",
   "execution_count": 102,
   "metadata": {},
   "outputs": [
    {
     "output_type": "execute_result",
     "data": {
      "text/plain": [
       "    spc_latin spc_common steward guards sidewalk problems\n",
       "630        NA         NA      NA     NA       NA       NA\n",
       "631        NA         NA      NA     NA       NA       NA\n",
       "634        NA         NA      NA     NA       NA       NA\n",
       "635        NA         NA      NA     NA       NA       NA\n",
       "636        NA         NA      NA     NA       NA       NA"
      ],
      "text/html": "<div>\n<style scoped>\n    .dataframe tbody tr th:only-of-type {\n        vertical-align: middle;\n    }\n\n    .dataframe tbody tr th {\n        vertical-align: top;\n    }\n\n    .dataframe thead th {\n        text-align: right;\n    }\n</style>\n<table border=\"1\" class=\"dataframe\">\n  <thead>\n    <tr style=\"text-align: right;\">\n      <th></th>\n      <th>spc_latin</th>\n      <th>spc_common</th>\n      <th>steward</th>\n      <th>guards</th>\n      <th>sidewalk</th>\n      <th>problems</th>\n    </tr>\n  </thead>\n  <tbody>\n    <tr>\n      <th>630</th>\n      <td>NA</td>\n      <td>NA</td>\n      <td>NA</td>\n      <td>NA</td>\n      <td>NA</td>\n      <td>NA</td>\n    </tr>\n    <tr>\n      <th>631</th>\n      <td>NA</td>\n      <td>NA</td>\n      <td>NA</td>\n      <td>NA</td>\n      <td>NA</td>\n      <td>NA</td>\n    </tr>\n    <tr>\n      <th>634</th>\n      <td>NA</td>\n      <td>NA</td>\n      <td>NA</td>\n      <td>NA</td>\n      <td>NA</td>\n      <td>NA</td>\n    </tr>\n    <tr>\n      <th>635</th>\n      <td>NA</td>\n      <td>NA</td>\n      <td>NA</td>\n      <td>NA</td>\n      <td>NA</td>\n      <td>NA</td>\n    </tr>\n    <tr>\n      <th>636</th>\n      <td>NA</td>\n      <td>NA</td>\n      <td>NA</td>\n      <td>NA</td>\n      <td>NA</td>\n      <td>NA</td>\n    </tr>\n  </tbody>\n</table>\n</div>"
     },
     "metadata": {},
     "execution_count": 102
    }
   ],
   "source": [
    "# Check if original features with missing values have been correctly populated\n",
    "df[cols_with_nan][df[\"status\"].isin([\"Dead\", \"Stump\"])].head()"
   ]
  },
  {
   "cell_type": "code",
   "execution_count": 101,
   "metadata": {},
   "outputs": [
    {
     "output_type": "execute_result",
     "data": {
      "text/plain": [
       "created_at    0\n",
       "the_geom      0\n",
       "tree_dbh      0\n",
       "stump_diam    0\n",
       "curb_loc      0\n",
       "status        0\n",
       "health        0\n",
       "spc_latin     0\n",
       "spc_common    0\n",
       "steward       0\n",
       "guards        0\n",
       "sidewalk      0\n",
       "user_type     0\n",
       "problems      0\n",
       "root_stone    0\n",
       "root_grate    0\n",
       "root_other    0\n",
       "trnk_wire     0\n",
       "trnk_light    0\n",
       "trnk_other    0\n",
       "brnch_ligh    0\n",
       "brnch_shoe    0\n",
       "brnch_othe    0\n",
       "address       0\n",
       "zipcode       0\n",
       "zip_city      0\n",
       "cb_num        0\n",
       "borocode      0\n",
       "boroname      0\n",
       "cncldist      0\n",
       "st_assem      0\n",
       "st_senate     0\n",
       "nta           0\n",
       "nta_name      0\n",
       "boro_ct       0\n",
       "state         0\n",
       "latitude      0\n",
       "longitude     0\n",
       "x_sp          0\n",
       "y_sp          0\n",
       "dtype: int64"
      ]
     },
     "metadata": {},
     "execution_count": 101
    }
   ],
   "source": [
    "# Check if there are any mising values\n",
    "df.isnull().sum()"
   ]
  },
  {
   "source": [
    "### Fix data types"
   ],
   "cell_type": "markdown",
   "metadata": {}
  },
  {
   "cell_type": "code",
   "execution_count": 82,
   "metadata": {},
   "outputs": [],
   "source": [
    "# Convert `created_at` into a datetime64 feature\n",
    "df[\"created_at\"] = pd.to_datetime(df[\"created_at\"])"
   ]
  },
  {
   "cell_type": "code",
   "execution_count": 83,
   "metadata": {},
   "outputs": [
    {
     "output_type": "execute_result",
     "data": {
      "text/plain": [
       "0   2015-08-27\n",
       "1   2015-09-03\n",
       "2   2015-09-05\n",
       "3   2015-09-05\n",
       "4   2015-08-30\n",
       "Name: created_at, dtype: datetime64[ns]"
      ]
     },
     "metadata": {},
     "execution_count": 83
    }
   ],
   "source": [
    "# Check if `created_at` is correctly converted into a datetime64 feature\n",
    "df[\"created_at\"].head()"
   ]
  },
  {
   "source": [
    "### Feature selection"
   ],
   "cell_type": "markdown",
   "metadata": {}
  },
  {
   "cell_type": "code",
   "execution_count": 84,
   "metadata": {},
   "outputs": [],
   "source": [
    "# Drop the `tree_id` and `block_id` features as they won't be useful for predicting the outcome.\n",
    "df.drop([\"tree_id\", \"block_id\"], axis=1, inplace=True)"
   ]
  },
  {
   "cell_type": "code",
   "execution_count": 97,
   "metadata": {},
   "outputs": [],
   "source": [
    "# Drop the particular case where `health` is null and status different than \"Dead\" or \"Stump\"\n",
    "alive_no_status_idx = df.loc[(df[\"health\"].isnull()) & (~df[\"status\"].isin([\"Dead\", \"Stump\"]))].index\n",
    "alive_no_status_idx\n",
    "df.drop(alive_no_status_idx, axis=0, inplace=True)"
   ]
  },
  {
   "cell_type": "code",
   "execution_count": 104,
   "metadata": {},
   "outputs": [],
   "source": [
    "# Quick and dirty version\n",
    "# we'll only select the most important features where there is no missing value.\n",
    "no_nan_cols = df.loc[:, df.isnull().sum() == 0].columns\n",
    "df_good_enough = df[no_nan_cols]"
   ]
  },
  {
   "cell_type": "code",
   "execution_count": 105,
   "metadata": {},
   "outputs": [],
   "source": [
    "# Export the dataframe into data_clean_GOOD_ENOUGH file\n",
    "df_good_enough.to_csv(r'assets/data_clean_GOOD_ENOUGH.csv', index = False)"
   ]
  }
 ]
}